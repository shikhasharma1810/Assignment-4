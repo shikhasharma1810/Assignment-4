{
 "cells": [
  {
   "cell_type": "code",
   "execution_count": null,
   "id": "aa168c0b-ff25-4f18-b907-64c607592650",
   "metadata": {
    "tags": []
   },
   "outputs": [],
   "source": [
    "1. Which keyword is used to create a function? \n",
    "\n",
    "Python def keyword is used to define a function, it is placed before a function name that is provided by the user to create\n",
    "a user-defined function. In python, a function is a logical unit of code containing a sequence of statements indented under a\n",
    "name given using the “def” keyword. In python def keyword is the most used keyword.\n",
    "\n",
    "Syntax:\n",
    "\n",
    "def function_name: \n",
    "    function definition statements..."
   ]
  },
  {
   "cell_type": "code",
   "execution_count": 2,
   "id": "8fc57d35-d7c5-4610-958e-8b162a423c56",
   "metadata": {},
   "outputs": [],
   "source": [
    "1. # Create a function to return a list of odd numbers in the range of 1 to 25.\n",
    "\n",
    "def list_odd():\n",
    "    l=[]\n",
    "    for i in range(1,26):\n",
    "        if i % 2 !=0:\n",
    "            l.append(i)\n",
    "    return l"
   ]
  },
  {
   "cell_type": "code",
   "execution_count": 3,
   "id": "4d1eb5a8-d4f0-45b5-b81a-382475b5fbb4",
   "metadata": {},
   "outputs": [
    {
     "data": {
      "text/plain": [
       "[1, 3, 5, 7, 9, 11, 13, 15, 17, 19, 21, 23, 25]"
      ]
     },
     "execution_count": 3,
     "metadata": {},
     "output_type": "execute_result"
    }
   ],
   "source": [
    "list_odd()"
   ]
  },
  {
   "cell_type": "code",
   "execution_count": null,
   "id": "97684ec5-cd3f-4a1c-932c-8530ca2a52f6",
   "metadata": {},
   "outputs": [],
   "source": [
    "2. Why *args and **kwargs is used in some functions? \n",
    "\n",
    "*args allows us to pass a variable number of non-keyword arguments to a Python function. In the function, we should use an\n",
    "asterisk (*) before the parameter name to pass a variable number of arguments.\n",
    "\n",
    "**kwargs allows us to pass a variable number of keyword arguments to a Python function. In the function, we use the \n",
    "double-asterisk (**) before the parameter name to denote this type of argument."
   ]
  },
  {
   "cell_type": "code",
   "execution_count": 13,
   "id": "8cf79d87-3b0f-40f6-8212-9aca177faa53",
   "metadata": {},
   "outputs": [],
   "source": [
    "2. # Create a function each for *args and **kwargs to demonstrate their use.\n",
    "\n",
    "def inp(*args):\n",
    "    return args"
   ]
  },
  {
   "cell_type": "code",
   "execution_count": 14,
   "id": "f6bdb9d5-854e-40a2-8953-e8f68e182c12",
   "metadata": {},
   "outputs": [
    {
     "data": {
      "text/plain": [
       "()"
      ]
     },
     "execution_count": 14,
     "metadata": {},
     "output_type": "execute_result"
    }
   ],
   "source": [
    "inp()"
   ]
  },
  {
   "cell_type": "code",
   "execution_count": 15,
   "id": "42681954-5304-4648-a163-e322a8292a4d",
   "metadata": {},
   "outputs": [
    {
     "data": {
      "text/plain": [
       "(1, 2, 3, 4, 'shikha', 234.67, 'pwskills')"
      ]
     },
     "execution_count": 15,
     "metadata": {},
     "output_type": "execute_result"
    }
   ],
   "source": [
    "inp(1,2,3,4,'shikha',234.67,'pwskills')"
   ]
  },
  {
   "cell_type": "code",
   "execution_count": 11,
   "id": "cb4ed022-e8bc-41ed-b57c-f30f98ae84f2",
   "metadata": {},
   "outputs": [],
   "source": [
    "def keys(**kwargs):\n",
    "    return kwargs"
   ]
  },
  {
   "cell_type": "code",
   "execution_count": 12,
   "id": "28f2ce49-9bfa-4042-ac84-6e82c270a8f0",
   "metadata": {},
   "outputs": [
    {
     "data": {
      "text/plain": [
       "{'a': 12, 'b': 'khushi', 'c': 101.98}"
      ]
     },
     "execution_count": 12,
     "metadata": {},
     "output_type": "execute_result"
    }
   ],
   "source": [
    "keys(a=12,b='khushi',c=101.98)"
   ]
  },
  {
   "cell_type": "code",
   "execution_count": null,
   "id": "a9f84678-4d36-405f-b9eb-3dd79749641d",
   "metadata": {},
   "outputs": [],
   "source": [
    "3. What is an iterator in python? Name the method used to initialise the iterator object and the method used for iteration. \n",
    "\n",
    "Iterator in Python is an object that is used to iterate over iterable objects like lists, tuples, dicts, and sets. \n",
    "The iterator object is initialized using the iter() method. It uses the next() method for iteration.\n",
    "\n",
    "iter(): The iter() method is called for the initialization of an iterator. This returns an iterator object\n",
    "next(): The next method returns the next value for the iterable. When we use a for loop to traverse any iterable object,\n",
    "internally it uses the iter() method to get an iterator object, which further uses the next() method to iterate over. \n",
    "This method raises a StopIteration to signal the end of the iteration."
   ]
  },
  {
   "cell_type": "code",
   "execution_count": 43,
   "id": "7fbc424e-c7fa-4365-aa47-9d0f070caf55",
   "metadata": {},
   "outputs": [
    {
     "name": "stdout",
     "output_type": "stream",
     "text": [
      "2\n",
      "4\n",
      "6\n",
      "8\n",
      "10\n"
     ]
    }
   ],
   "source": [
    "3. # Use iter() and next() methods to print the first five elements of the given list [2, 4, 6, 8, 10, 12, 14, 16, 18, 20].\n",
    "\n",
    "l=[2, 4, 6, 8, 10, 12, 14, 16, 18, 20]\n",
    "s1=iter(l)\n",
    "for i in range (5):\n",
    "    print(next(s1))"
   ]
  },
  {
   "cell_type": "code",
   "execution_count": null,
   "id": "3b522cf1-6b07-4295-9836-bb207a7d9626",
   "metadata": {},
   "outputs": [],
   "source": [
    "4. What is a generator function in python? Why yield keyword is used? Give an example of a generator function.\n",
    "\n",
    "In Python, a generator is a function that returns an iterator that produces a sequence of values when iterated over.\n",
    "Generators are useful when we want to produce a large sequence of values, but we dont want to store all of them in memory\n",
    "at once.\n",
    "The Yield keyword in Python is similar to a return statement used for returning values or objects in Python. However, there \n",
    "is a slight difference. The yield statement returns a generator object to the one who calls the function which contains yield,\n",
    "instead of simply returning a value.    \n",
    "\n",
    "Example:\n",
    "    def generator_name(args):\n",
    "    # statements\n",
    "    yield something"
   ]
  },
  {
   "cell_type": "code",
   "execution_count": 5,
   "id": "3734d63a-abb2-4b66-99de-78d0199050a0",
   "metadata": {},
   "outputs": [],
   "source": [
    "5. # Create a generator function for prime numbers less than 1000. Use the next() method to print the first 20 prime numbers.\n",
    "\n",
    "def prime_get():\n",
    "    for i in range(1,1000):\n",
    "        is_prime = 0\n",
    "        for j in range(1, i+1):\n",
    "            if i % j == 0:\n",
    "                is_prime = is_prime+1\n",
    "               \n",
    "        if is_prime==2:\n",
    "            yield i"
   ]
  },
  {
   "cell_type": "code",
   "execution_count": 6,
   "id": "caa7d573-af0c-4f51-a4d2-19b447512fb0",
   "metadata": {
    "tags": []
   },
   "outputs": [],
   "source": [
    "primes = prime_get()"
   ]
  },
  {
   "cell_type": "code",
   "execution_count": 7,
   "id": "a7cc13d0-9bd0-4876-8c3d-6ce1254827ea",
   "metadata": {},
   "outputs": [
    {
     "data": {
      "text/plain": [
       "<generator object prime_get at 0x7f0c9c712dc0>"
      ]
     },
     "execution_count": 7,
     "metadata": {},
     "output_type": "execute_result"
    }
   ],
   "source": [
    "prime_get()"
   ]
  },
  {
   "cell_type": "code",
   "execution_count": 8,
   "id": "cb907c85-1cfb-4d7c-ab49-7f00198ee16b",
   "metadata": {},
   "outputs": [
    {
     "name": "stdout",
     "output_type": "stream",
     "text": [
      "2\n",
      "3\n",
      "5\n",
      "7\n",
      "11\n",
      "13\n",
      "17\n",
      "19\n",
      "23\n",
      "29\n",
      "31\n",
      "37\n",
      "41\n",
      "43\n",
      "47\n",
      "53\n",
      "59\n",
      "61\n",
      "67\n",
      "71\n"
     ]
    }
   ],
   "source": [
    "for i in range(20):\n",
    "    print(next(primes))"
   ]
  },
  {
   "cell_type": "code",
   "execution_count": 8,
   "id": "610ad236-46b6-44d0-8057-399206b65314",
   "metadata": {},
   "outputs": [
    {
     "name": "stdin",
     "output_type": "stream",
     "text": [
      "enter first digit 1\n",
      "enter second digit 2\n",
      "enter number of elements 5\n"
     ]
    },
    {
     "name": "stdout",
     "output_type": "stream",
     "text": [
      "1\n",
      "2\n",
      "3\n",
      "5\n",
      "8\n"
     ]
    }
   ],
   "source": [
    "6. # Write a python program to print the first 10 Fibonacci numbers using a while loop.\n",
    "\n",
    "a= int(input('enter first digit'))\n",
    "b= int(input('enter second digit'))\n",
    "number= int(input('enter number of elements'))\n",
    "ctr=0\n",
    "\n",
    "while ctr< number:\n",
    "    \n",
    "    print(a)\n",
    "    c= a+b\n",
    "    a= b\n",
    "    b= c\n",
    "    ctr+=1"
   ]
  },
  {
   "cell_type": "code",
   "execution_count": 32,
   "id": "17c6a052-4bc3-4e4a-b217-b3ff4f13c673",
   "metadata": {},
   "outputs": [
    {
     "name": "stdout",
     "output_type": "stream",
     "text": [
      "['p', 'w', 's', 'k', 'i', 'l', 'l', 's']\n"
     ]
    }
   ],
   "source": [
    "7. # Write a List Comprehension to iterate through the given string: ‘pwskills’.\n",
    "\n",
    "# Expected output: ['p', 'w', 's', 'k', 'i', 'l', 'l', 's']\n",
    "\n",
    "l=[]\n",
    "string='pwskills'\n",
    "[l.append(i) for i in string]\n",
    "print(l)\n"
   ]
  },
  {
   "cell_type": "code",
   "execution_count": 37,
   "id": "32b2ad20-a10c-4bf7-b181-922f13914772",
   "metadata": {},
   "outputs": [
    {
     "name": "stdin",
     "output_type": "stream",
     "text": [
      "Enter a value: 1221\n"
     ]
    },
    {
     "name": "stdout",
     "output_type": "stream",
     "text": [
      "This value is a palindrome number\n"
     ]
    }
   ],
   "source": [
    "8. #Write a python program to check whether a given number is Palindrome or not using a while loop.\n",
    "\n",
    "num = int(input(\"Enter a value:\"))  \n",
    "temp = num  \n",
    "rev = 0  \n",
    "while(num > 0):  \n",
    "    dig = num % 10  \n",
    "    rev = rev * 10 + dig  \n",
    "    num = num // 10  \n",
    "if(temp == rev):  \n",
    "    print(\"This value is a palindrome number\")  \n",
    "else:  \n",
    "    print(\"This value is not a palindrome number\")"
   ]
  },
  {
   "cell_type": "code",
   "execution_count": 14,
   "id": "255fb834-c2e4-4887-b08e-27405ce1f475",
   "metadata": {},
   "outputs": [
    {
     "data": {
      "text/plain": [
       "[1,\n",
       " 2,\n",
       " 3,\n",
       " 4,\n",
       " 5,\n",
       " 6,\n",
       " 7,\n",
       " 8,\n",
       " 9,\n",
       " 10,\n",
       " 11,\n",
       " 12,\n",
       " 13,\n",
       " 14,\n",
       " 15,\n",
       " 16,\n",
       " 17,\n",
       " 18,\n",
       " 19,\n",
       " 20,\n",
       " 21,\n",
       " 22,\n",
       " 23,\n",
       " 24,\n",
       " 25,\n",
       " 26,\n",
       " 27,\n",
       " 28,\n",
       " 29,\n",
       " 30,\n",
       " 31,\n",
       " 32,\n",
       " 33,\n",
       " 34,\n",
       " 35,\n",
       " 36,\n",
       " 37,\n",
       " 38,\n",
       " 39,\n",
       " 40,\n",
       " 41,\n",
       " 42,\n",
       " 43,\n",
       " 44,\n",
       " 45,\n",
       " 46,\n",
       " 47,\n",
       " 48,\n",
       " 49,\n",
       " 50,\n",
       " 51,\n",
       " 52,\n",
       " 53,\n",
       " 54,\n",
       " 55,\n",
       " 56,\n",
       " 57,\n",
       " 58,\n",
       " 59,\n",
       " 60,\n",
       " 61,\n",
       " 62,\n",
       " 63,\n",
       " 64,\n",
       " 65,\n",
       " 66,\n",
       " 67,\n",
       " 68,\n",
       " 69,\n",
       " 70,\n",
       " 71,\n",
       " 72,\n",
       " 73,\n",
       " 74,\n",
       " 75,\n",
       " 76,\n",
       " 77,\n",
       " 78,\n",
       " 79,\n",
       " 80,\n",
       " 81,\n",
       " 82,\n",
       " 83,\n",
       " 84,\n",
       " 85,\n",
       " 86,\n",
       " 87,\n",
       " 88,\n",
       " 89,\n",
       " 90,\n",
       " 91,\n",
       " 92,\n",
       " 93,\n",
       " 94,\n",
       " 95,\n",
       " 96,\n",
       " 97,\n",
       " 98,\n",
       " 99,\n",
       " 100]"
      ]
     },
     "execution_count": 14,
     "metadata": {},
     "output_type": "execute_result"
    }
   ],
   "source": [
    "9. # Write a code to print odd numbers from 1 to 100 using list comprehension.\n",
    "\n",
    "# Note:Use a list comprehension to create a list from 1 to 100 and use another List comprehension to filter out odd numbers.\n",
    "\n",
    "l=range(1,101)\n",
    "[i for i in l]"
   ]
  },
  {
   "cell_type": "code",
   "execution_count": 15,
   "id": "13855962-79da-4793-b84a-cabcb9a34f12",
   "metadata": {},
   "outputs": [
    {
     "data": {
      "text/plain": [
       "[1,\n",
       " 3,\n",
       " 5,\n",
       " 7,\n",
       " 9,\n",
       " 11,\n",
       " 13,\n",
       " 15,\n",
       " 17,\n",
       " 19,\n",
       " 21,\n",
       " 23,\n",
       " 25,\n",
       " 27,\n",
       " 29,\n",
       " 31,\n",
       " 33,\n",
       " 35,\n",
       " 37,\n",
       " 39,\n",
       " 41,\n",
       " 43,\n",
       " 45,\n",
       " 47,\n",
       " 49,\n",
       " 51,\n",
       " 53,\n",
       " 55,\n",
       " 57,\n",
       " 59,\n",
       " 61,\n",
       " 63,\n",
       " 65,\n",
       " 67,\n",
       " 69,\n",
       " 71,\n",
       " 73,\n",
       " 75,\n",
       " 77,\n",
       " 79,\n",
       " 81,\n",
       " 83,\n",
       " 85,\n",
       " 87,\n",
       " 89,\n",
       " 91,\n",
       " 93,\n",
       " 95,\n",
       " 97,\n",
       " 99]"
      ]
     },
     "execution_count": 15,
     "metadata": {},
     "output_type": "execute_result"
    }
   ],
   "source": [
    "[i for i in l if i%2!=0]"
   ]
  }
 ],
 "metadata": {
  "kernelspec": {
   "display_name": "Python 3 (ipykernel)",
   "language": "python",
   "name": "python3"
  },
  "language_info": {
   "codemirror_mode": {
    "name": "ipython",
    "version": 3
   },
   "file_extension": ".py",
   "mimetype": "text/x-python",
   "name": "python",
   "nbconvert_exporter": "python",
   "pygments_lexer": "ipython3",
   "version": "3.10.8"
  }
 },
 "nbformat": 4,
 "nbformat_minor": 5
}
